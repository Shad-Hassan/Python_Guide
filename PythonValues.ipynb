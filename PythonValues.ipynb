{
  "nbformat": 4,
  "nbformat_minor": 0,
  "metadata": {
    "colab": {
      "provenance": [],
      "authorship_tag": "ABX9TyOgRgJ7a3A4lcnszKEV9LYk",
      "include_colab_link": true
    },
    "kernelspec": {
      "name": "python3",
      "display_name": "Python 3"
    },
    "language_info": {
      "name": "python"
    }
  },
  "cells": [
    {
      "cell_type": "markdown",
      "metadata": {
        "id": "view-in-github",
        "colab_type": "text"
      },
      "source": [
        "<a href=\"https://colab.research.google.com/github/Shad-Hassan/Python_Guide/blob/main/PythonValues.ipynb\" target=\"_parent\"><img src=\"https://colab.research.google.com/assets/colab-badge.svg\" alt=\"Open In Colab\"/></a>"
      ]
    },
    {
      "cell_type": "code",
      "execution_count": null,
      "metadata": {
        "colab": {
          "base_uri": "https://localhost:8080/"
        },
        "id": "NyRGFWVLnFhG",
        "outputId": "5036b2fc-aa90-4629-a20e-fcbf1ca1feca"
      },
      "outputs": [
        {
          "output_type": "stream",
          "name": "stdout",
          "text": [
            "they are not equal\n"
          ]
        }
      ],
      "source": [
        "if 2 == \"2\":\n",
        "  print(\"they are equal\")\n",
        "else:\n",
        "  print(\"they are not equal\")"
      ]
    },
    {
      "cell_type": "code",
      "source": [
        "a = 2\n",
        "b = 4\n",
        "if a == b:\n",
        "  print('The value of A is equal to B')\n",
        "else:\n",
        "    print('A is not equal to B')"
      ],
      "metadata": {
        "colab": {
          "base_uri": "https://localhost:8080/"
        },
        "id": "JXBeEskerYbD",
        "outputId": "b882747c-2ebf-4487-a174-f07587d8dddf"
      },
      "execution_count": null,
      "outputs": [
        {
          "output_type": "stream",
          "name": "stdout",
          "text": [
            "A is not equal to B\n"
          ]
        }
      ]
    },
    {
      "cell_type": "code",
      "source": [
        "# this compares teh value of C with D\n",
        "c = 8\n",
        "d = 12\n",
        "if d == c: # \"==\" compares the values of both constants\n",
        "  print('Value of D = C')\n",
        "else:\n",
        "    print('C is not equal to D')"
      ],
      "metadata": {
        "colab": {
          "base_uri": "https://localhost:8080/"
        },
        "id": "4S-YiY5TwFmp",
        "outputId": "17b678c4-0ad4-447a-845c-8b3d6a222bb3"
      },
      "execution_count": null,
      "outputs": [
        {
          "output_type": "stream",
          "name": "stdout",
          "text": [
            "C is not equal to D\n"
          ]
        }
      ]
    },
    {
      "cell_type": "code",
      "source": [
        "#Shad got 10$ , he would like to buy a product costing $12\n",
        "Shad = 10\n",
        "Product = 12\n",
        "\n",
        "if Shad > Product:\n",
        "  print (\"Shad can buy the product today\")\n",
        "else:\n",
        "  print('Shad isnt gonna buy anything today ')"
      ],
      "metadata": {
        "colab": {
          "base_uri": "https://localhost:8080/"
        },
        "id": "BnEtINBr06p1",
        "outputId": "89a86a79-e18c-4d84-8a1c-8119c6025766"
      },
      "execution_count": null,
      "outputs": [
        {
          "output_type": "stream",
          "name": "stdout",
          "text": [
            "Shad isnt gonna buy anything today \n"
          ]
        }
      ]
    }
  ]
}